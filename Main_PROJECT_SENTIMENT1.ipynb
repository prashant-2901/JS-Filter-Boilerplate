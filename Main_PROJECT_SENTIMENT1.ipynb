{
  "nbformat": 4,
  "nbformat_minor": 0,
  "metadata": {
    "colab": {
      "name": "Main PROJECT - SENTIMENT1.ipynb",
      "provenance": [],
      "mount_file_id": "1XrRE8qDtcPWbKiuYKDCLcXqQFOnJCSvp",
      "authorship_tag": "ABX9TyPrdjFlViBJPMWkP+eYjbIO",
      "include_colab_link": true
    },
    "kernelspec": {
      "name": "python3",
      "display_name": "Python 3"
    },
    "language_info": {
      "name": "python"
    }
  },
  "cells": [
    {
      "cell_type": "markdown",
      "metadata": {
        "id": "view-in-github",
        "colab_type": "text"
      },
      "source": [
        "<a href=\"https://colab.research.google.com/github/prashant-2901/JS-Filter-Boilerplate/blob/master/Main_PROJECT_SENTIMENT1.ipynb\" target=\"_parent\"><img src=\"https://colab.research.google.com/assets/colab-badge.svg\" alt=\"Open In Colab\"/></a>"
      ]
    },
    {
      "cell_type": "code",
      "metadata": {
        "id": "2O9ulueHma0o"
      },
      "source": [
        "# Import \n",
        "\n",
        "import pandas as pd\n",
        "import numpy as np\n",
        "\n",
        "import nltk\n",
        "from nltk.corpus import stopwords\n",
        "from nltk.tokenize import word_tokenize\n",
        "from nltk.stem import WordNetLemmatizer\n",
        "\n",
        "import re\n",
        "import string\n",
        "\n",
        "from sklearn.feature_extraction.text import TfidfVectorizer\n",
        "from sklearn.model_selection import train_test_split\n",
        "from sklearn.naive_bayes import BernoulliNB\n",
        "from sklearn.metrics import confusion_matrix, classification_report\n",
        "\n",
        "import matplotlib.pyplot as plt"
      ],
      "execution_count": null,
      "outputs": []
    },
    {
      "cell_type": "code",
      "metadata": {
        "id": "o46mOBv5qEM0"
      },
      "source": [
        "# Loading dataset\n",
        "\n",
        "data = pd.read_csv('/content/drive/MyDrive/Colab Notebooks/data_full1.csv')"
      ],
      "execution_count": null,
      "outputs": []
    },
    {
      "cell_type": "code",
      "metadata": {
        "colab": {
          "base_uri": "https://localhost:8080/",
          "height": 402
        },
        "id": "fOjE8KCbwOHO",
        "outputId": "99b52c72-1413-48ec-88c2-59d46a45ff61"
      },
      "source": [
        "# Printing data \n",
        "\n",
        "data"
      ],
      "execution_count": null,
      "outputs": [
        {
          "output_type": "execute_result",
          "data": {
            "text/html": [
              "<div>\n",
              "<style scoped>\n",
              "    .dataframe tbody tr th:only-of-type {\n",
              "        vertical-align: middle;\n",
              "    }\n",
              "\n",
              "    .dataframe tbody tr th {\n",
              "        vertical-align: top;\n",
              "    }\n",
              "\n",
              "    .dataframe thead th {\n",
              "        text-align: right;\n",
              "    }\n",
              "</style>\n",
              "<table border=\"1\" class=\"dataframe\">\n",
              "  <thead>\n",
              "    <tr style=\"text-align: right;\">\n",
              "      <th></th>\n",
              "      <th>Unnamed: 0</th>\n",
              "      <th>polarity</th>\n",
              "      <th>text</th>\n",
              "    </tr>\n",
              "  </thead>\n",
              "  <tbody>\n",
              "    <tr>\n",
              "      <th>0</th>\n",
              "      <td>0</td>\n",
              "      <td>0</td>\n",
              "      <td>@craziex3 no i do NOT have a hangover! haha &amp;a...</td>\n",
              "    </tr>\n",
              "    <tr>\n",
              "      <th>1</th>\n",
              "      <td>1</td>\n",
              "      <td>0</td>\n",
              "      <td>@babydollniki Almost a thousand dollars.</td>\n",
              "    </tr>\n",
              "    <tr>\n",
              "      <th>2</th>\n",
              "      <td>2</td>\n",
              "      <td>0</td>\n",
              "      <td>hard to concentrate, exams are so close</td>\n",
              "    </tr>\n",
              "    <tr>\n",
              "      <th>3</th>\n",
              "      <td>3</td>\n",
              "      <td>0</td>\n",
              "      <td>Button missed corner  #f1</td>\n",
              "    </tr>\n",
              "    <tr>\n",
              "      <th>4</th>\n",
              "      <td>4</td>\n",
              "      <td>4</td>\n",
              "      <td>@ElkaBr  Good Morning  How are you? How is you...</td>\n",
              "    </tr>\n",
              "    <tr>\n",
              "      <th>...</th>\n",
              "      <td>...</td>\n",
              "      <td>...</td>\n",
              "      <td>...</td>\n",
              "    </tr>\n",
              "    <tr>\n",
              "      <th>255208</th>\n",
              "      <td>255208</td>\n",
              "      <td>2</td>\n",
              "      <td>case dont look candidate then that case person...</td>\n",
              "    </tr>\n",
              "    <tr>\n",
              "      <th>255209</th>\n",
              "      <td>255209</td>\n",
              "      <td>2</td>\n",
              "      <td>congress veteran sudhakar reddy joins bjp afte...</td>\n",
              "    </tr>\n",
              "    <tr>\n",
              "      <th>255210</th>\n",
              "      <td>255210</td>\n",
              "      <td>2</td>\n",
              "      <td>save your agenda peddling ’ had with terror at...</td>\n",
              "    </tr>\n",
              "    <tr>\n",
              "      <th>255211</th>\n",
              "      <td>255211</td>\n",
              "      <td>2</td>\n",
              "      <td>did you cover her interaction forum where she ...</td>\n",
              "    </tr>\n",
              "    <tr>\n",
              "      <th>255212</th>\n",
              "      <td>255212</td>\n",
              "      <td>2</td>\n",
              "      <td>there big project came into india modi dream p...</td>\n",
              "    </tr>\n",
              "  </tbody>\n",
              "</table>\n",
              "<p>255213 rows × 3 columns</p>\n",
              "</div>"
            ],
            "text/plain": [
              "        Unnamed: 0  polarity                                               text\n",
              "0                0         0  @craziex3 no i do NOT have a hangover! haha &a...\n",
              "1                1         0          @babydollniki Almost a thousand dollars. \n",
              "2                2         0           hard to concentrate, exams are so close \n",
              "3                3         0                          Button missed corner  #f1\n",
              "4                4         4  @ElkaBr  Good Morning  How are you? How is you...\n",
              "...            ...       ...                                                ...\n",
              "255208      255208         2  case dont look candidate then that case person...\n",
              "255209      255209         2  congress veteran sudhakar reddy joins bjp afte...\n",
              "255210      255210         2  save your agenda peddling ’ had with terror at...\n",
              "255211      255211         2  did you cover her interaction forum where she ...\n",
              "255212      255212         2  there big project came into india modi dream p...\n",
              "\n",
              "[255213 rows x 3 columns]"
            ]
          },
          "metadata": {
            "tags": []
          },
          "execution_count": 3
        }
      ]
    },
    {
      "cell_type": "code",
      "metadata": {
        "colab": {
          "base_uri": "https://localhost:8080/"
        },
        "id": "RwAN9EfUwRN3",
        "outputId": "ba39d320-b79d-4916-a5db-4f9c6c1038dd"
      },
      "source": [
        "#Checking if any null values present\n",
        "\n",
        "(data.isnull().sum() / len(data))*100"
      ],
      "execution_count": null,
      "outputs": [
        {
          "output_type": "execute_result",
          "data": {
            "text/plain": [
              "Unnamed: 0    0.000000\n",
              "polarity      0.000000\n",
              "text          0.000784\n",
              "dtype: float64"
            ]
          },
          "metadata": {
            "tags": []
          },
          "execution_count": 4
        }
      ]
    },
    {
      "cell_type": "code",
      "metadata": {
        "id": "Mf3oMpv4wwVK"
      },
      "source": [
        "# Dropping unwanted columns\n",
        "\n",
        "data = data.drop('Unnamed: 0', axis = 1)"
      ],
      "execution_count": null,
      "outputs": []
    },
    {
      "cell_type": "code",
      "metadata": {
        "colab": {
          "base_uri": "https://localhost:8080/"
        },
        "id": "HU74F6E9xPaO",
        "outputId": "fd4a2cfe-bcae-4c93-f251-ce8835242e8a"
      },
      "source": [
        "# Dropping duplicate values\n",
        "\n",
        "data = data.drop_duplicates('text')\n",
        "print(data.shape)"
      ],
      "execution_count": null,
      "outputs": [
        {
          "output_type": "stream",
          "text": [
            "(254359, 2)\n"
          ],
          "name": "stdout"
        }
      ]
    },
    {
      "cell_type": "code",
      "metadata": {
        "colab": {
          "base_uri": "https://localhost:8080/",
          "height": 402
        },
        "id": "nsBGumWLxbWs",
        "outputId": "fef0b60e-b08f-4a72-ef14-850f613614e4"
      },
      "source": [
        "# Dropping Null Values\n",
        "\n",
        "data.dropna()"
      ],
      "execution_count": null,
      "outputs": [
        {
          "output_type": "execute_result",
          "data": {
            "text/html": [
              "<div>\n",
              "<style scoped>\n",
              "    .dataframe tbody tr th:only-of-type {\n",
              "        vertical-align: middle;\n",
              "    }\n",
              "\n",
              "    .dataframe tbody tr th {\n",
              "        vertical-align: top;\n",
              "    }\n",
              "\n",
              "    .dataframe thead th {\n",
              "        text-align: right;\n",
              "    }\n",
              "</style>\n",
              "<table border=\"1\" class=\"dataframe\">\n",
              "  <thead>\n",
              "    <tr style=\"text-align: right;\">\n",
              "      <th></th>\n",
              "      <th>polarity</th>\n",
              "      <th>text</th>\n",
              "    </tr>\n",
              "  </thead>\n",
              "  <tbody>\n",
              "    <tr>\n",
              "      <th>0</th>\n",
              "      <td>0</td>\n",
              "      <td>@craziex3 no i do NOT have a hangover! haha &amp;a...</td>\n",
              "    </tr>\n",
              "    <tr>\n",
              "      <th>1</th>\n",
              "      <td>0</td>\n",
              "      <td>@babydollniki Almost a thousand dollars.</td>\n",
              "    </tr>\n",
              "    <tr>\n",
              "      <th>2</th>\n",
              "      <td>0</td>\n",
              "      <td>hard to concentrate, exams are so close</td>\n",
              "    </tr>\n",
              "    <tr>\n",
              "      <th>3</th>\n",
              "      <td>0</td>\n",
              "      <td>Button missed corner  #f1</td>\n",
              "    </tr>\n",
              "    <tr>\n",
              "      <th>4</th>\n",
              "      <td>4</td>\n",
              "      <td>@ElkaBr  Good Morning  How are you? How is you...</td>\n",
              "    </tr>\n",
              "    <tr>\n",
              "      <th>...</th>\n",
              "      <td>...</td>\n",
              "      <td>...</td>\n",
              "    </tr>\n",
              "    <tr>\n",
              "      <th>255208</th>\n",
              "      <td>2</td>\n",
              "      <td>case dont look candidate then that case person...</td>\n",
              "    </tr>\n",
              "    <tr>\n",
              "      <th>255209</th>\n",
              "      <td>2</td>\n",
              "      <td>congress veteran sudhakar reddy joins bjp afte...</td>\n",
              "    </tr>\n",
              "    <tr>\n",
              "      <th>255210</th>\n",
              "      <td>2</td>\n",
              "      <td>save your agenda peddling ’ had with terror at...</td>\n",
              "    </tr>\n",
              "    <tr>\n",
              "      <th>255211</th>\n",
              "      <td>2</td>\n",
              "      <td>did you cover her interaction forum where she ...</td>\n",
              "    </tr>\n",
              "    <tr>\n",
              "      <th>255212</th>\n",
              "      <td>2</td>\n",
              "      <td>there big project came into india modi dream p...</td>\n",
              "    </tr>\n",
              "  </tbody>\n",
              "</table>\n",
              "<p>254358 rows × 2 columns</p>\n",
              "</div>"
            ],
            "text/plain": [
              "        polarity                                               text\n",
              "0              0  @craziex3 no i do NOT have a hangover! haha &a...\n",
              "1              0          @babydollniki Almost a thousand dollars. \n",
              "2              0           hard to concentrate, exams are so close \n",
              "3              0                          Button missed corner  #f1\n",
              "4              4  @ElkaBr  Good Morning  How are you? How is you...\n",
              "...          ...                                                ...\n",
              "255208         2  case dont look candidate then that case person...\n",
              "255209         2  congress veteran sudhakar reddy joins bjp afte...\n",
              "255210         2  save your agenda peddling ’ had with terror at...\n",
              "255211         2  did you cover her interaction forum where she ...\n",
              "255212         2  there big project came into india modi dream p...\n",
              "\n",
              "[254358 rows x 2 columns]"
            ]
          },
          "metadata": {
            "tags": []
          },
          "execution_count": 7
        }
      ]
    },
    {
      "cell_type": "code",
      "metadata": {
        "colab": {
          "base_uri": "https://localhost:8080/"
        },
        "id": "KdUpJgHMxhSy",
        "outputId": "063868de-b49a-4c3a-ecf4-2fb8b88570bf"
      },
      "source": [
        "#Checking if any null values present\n",
        "\n",
        "(data.isnull().sum() / len(data))*100"
      ],
      "execution_count": null,
      "outputs": [
        {
          "output_type": "execute_result",
          "data": {
            "text/plain": [
              "polarity    0.000000\n",
              "text        0.000393\n",
              "dtype: float64"
            ]
          },
          "metadata": {
            "tags": []
          },
          "execution_count": 8
        }
      ]
    },
    {
      "cell_type": "code",
      "metadata": {
        "id": "uqetOFAvw9Qi"
      },
      "source": [
        "#converting pandas object to a string type\n",
        "\n",
        "data['text'] = data['text'].astype('str')"
      ],
      "execution_count": null,
      "outputs": []
    },
    {
      "cell_type": "code",
      "metadata": {
        "colab": {
          "base_uri": "https://localhost:8080/"
        },
        "id": "50DkRoBrxISr",
        "outputId": "c51b05fa-d559-4151-ab7d-c5d11869a11c"
      },
      "source": [
        "# Downloading and printing stopwards\n",
        "\n",
        "nltk.download('stopwords')\n",
        "stopword = set(stopwords.words('english'))\n",
        "print(stopword)"
      ],
      "execution_count": null,
      "outputs": [
        {
          "output_type": "stream",
          "text": [
            "[nltk_data] Downloading package stopwords to /root/nltk_data...\n",
            "[nltk_data]   Package stopwords is already up-to-date!\n",
            "{'you', 'on', 'are', 'hers', 'as', 'herself', 'through', 'll', 'your', 'didn', 'mustn', 'i', 'few', 'most', 'am', \"that'll\", 'has', 'weren', 'o', 'into', 'other', 'was', 'until', 'off', \"weren't\", 'not', 'by', 'at', 'an', 'over', 'that', \"won't\", \"doesn't\", 'nor', 'to', \"wouldn't\", 'and', 'against', \"aren't\", 'up', \"shan't\", \"shouldn't\", 'some', 'it', 'have', 'myself', 'mightn', \"didn't\", 'before', 'is', \"needn't\", 'with', 'further', 'his', 'them', 'once', 'yours', 'be', 'how', \"hadn't\", 'why', 'hadn', 'because', 'd', 'having', 'any', 'all', \"don't\", 'can', 'wasn', 'no', 'its', 've', 'themselves', 'my', 'ourselves', 'ain', 'isn', \"you'll\", 'yourself', 'then', 'this', 'theirs', 'those', \"you'd\", 'so', \"it's\", 'wouldn', 'we', 'did', 'had', 'hasn', 'which', 'but', \"hasn't\", 'these', 'itself', 'while', 'our', 'whom', 'under', 're', 'same', 'now', 'when', 'him', 'more', 'a', 'after', 'there', 'what', 'here', 'above', 'again', 'y', 'doesn', 'where', \"mightn't\", 'they', 'himself', 'her', 'she', \"you've\", \"isn't\", 'both', \"mustn't\", 'too', 'down', 'from', 'do', 'or', \"she's\", 'will', \"haven't\", 'were', 'doing', 's', 'couldn', 'ma', 'out', 'only', 'just', 'than', 'needn', \"should've\", 'ours', 'he', 'who', 'being', 'shouldn', 'haven', 'in', 'if', 'yourselves', 'should', 'for', 'me', 'don', \"wasn't\", 'does', 't', 'below', 'm', 'each', 'during', 'such', 'their', 'the', 'of', 'about', 'between', 'aren', 'shan', \"couldn't\", 'very', 'own', 'won', 'been', \"you're\"}\n"
          ],
          "name": "stdout"
        }
      ]
    },
    {
      "cell_type": "code",
      "metadata": {
        "colab": {
          "base_uri": "https://localhost:8080/"
        },
        "id": "faQ-1Nnkx9Vg",
        "outputId": "71e5a129-4ea4-4afb-94bb-0973f92b8db8"
      },
      "source": [
        "nltk.download('punkt')                                # Used to divide text into list of sentences\n",
        "nltk.download('wordnet')                              # Used for lemmitization of sentences"
      ],
      "execution_count": null,
      "outputs": [
        {
          "output_type": "stream",
          "text": [
            "[nltk_data] Downloading package punkt to /root/nltk_data...\n",
            "[nltk_data]   Package punkt is already up-to-date!\n",
            "[nltk_data] Downloading package wordnet to /root/nltk_data...\n",
            "[nltk_data]   Package wordnet is already up-to-date!\n"
          ],
          "name": "stdout"
        },
        {
          "output_type": "execute_result",
          "data": {
            "text/plain": [
              "True"
            ]
          },
          "metadata": {
            "tags": []
          },
          "execution_count": 11
        }
      ]
    },
    {
      "cell_type": "code",
      "metadata": {
        "id": "eIz-2NAOyBRi"
      },
      "source": [
        "# Method for data cleaning\n",
        "\n",
        "\n",
        "urlPattern = r\"((http://)[^ ]*|(https://)[^ ]*|( www\\.)[^ ]*)\"\n",
        "userPattern = '@[^\\s]+'\n",
        "def process_tweets(tweet):\n",
        "  # Lower Casing\n",
        "    tweet = tweet.lower()\n",
        "    tweet=tweet[1:]\n",
        "    # Removing all URls \n",
        "    tweet = re.sub(urlPattern,'',tweet)\n",
        "    # Removing all @username.\n",
        "    tweet = re.sub(userPattern,'', tweet) \n",
        "    #Remove punctuations\n",
        "    tweet = tweet.translate(str.maketrans(\"\",\"\",string.punctuation))\n",
        "    #tokenizing words\n",
        "    tokens = word_tokenize(tweet)\n",
        "    #Removing Stop Words\n",
        "    final_tokens = [w for w in tokens if w not in stopword]\n",
        "    #reducing a word to its word stem \n",
        "    wordLemm = WordNetLemmatizer()\n",
        "    finalwords=[]\n",
        "    for w in final_tokens:\n",
        "      if len(w)>1:\n",
        "        word = wordLemm.lemmatize(w)\n",
        "        finalwords.append(word)\n",
        "    return ' '.join(finalwords)"
      ],
      "execution_count": null,
      "outputs": []
    },
    {
      "cell_type": "code",
      "metadata": {
        "colab": {
          "base_uri": "https://localhost:8080/"
        },
        "id": "dFxQ54rx1-yX",
        "outputId": "4451dcac-5fd6-40ff-9110-15a3d70a5bd1"
      },
      "source": [
        "# Passing tweets to above method for cleaning\n",
        "\n",
        "data['processed_tweets'] = data['text'].apply(lambda x: process_tweets(x))\n",
        "print('Text Preprocessing complete.')"
      ],
      "execution_count": null,
      "outputs": [
        {
          "output_type": "stream",
          "text": [
            "Text Preprocessing complete.\n"
          ],
          "name": "stdout"
        }
      ]
    },
    {
      "cell_type": "code",
      "metadata": {
        "colab": {
          "base_uri": "https://localhost:8080/",
          "height": 402
        },
        "id": "qXJaZQ9o2Eyg",
        "outputId": "0ff3d8fe-ea49-4ba3-cd48-f17ea5d51768"
      },
      "source": [
        "# Checking data for preprocessed tweets\n",
        "\n",
        "data"
      ],
      "execution_count": null,
      "outputs": [
        {
          "output_type": "execute_result",
          "data": {
            "text/html": [
              "<div>\n",
              "<style scoped>\n",
              "    .dataframe tbody tr th:only-of-type {\n",
              "        vertical-align: middle;\n",
              "    }\n",
              "\n",
              "    .dataframe tbody tr th {\n",
              "        vertical-align: top;\n",
              "    }\n",
              "\n",
              "    .dataframe thead th {\n",
              "        text-align: right;\n",
              "    }\n",
              "</style>\n",
              "<table border=\"1\" class=\"dataframe\">\n",
              "  <thead>\n",
              "    <tr style=\"text-align: right;\">\n",
              "      <th></th>\n",
              "      <th>polarity</th>\n",
              "      <th>text</th>\n",
              "      <th>processed_tweets</th>\n",
              "    </tr>\n",
              "  </thead>\n",
              "  <tbody>\n",
              "    <tr>\n",
              "      <th>0</th>\n",
              "      <td>0</td>\n",
              "      <td>@craziex3 no i do NOT have a hangover! haha &amp;a...</td>\n",
              "      <td>craziex3 hangover haha amp didnt co laaaate am...</td>\n",
              "    </tr>\n",
              "    <tr>\n",
              "      <th>1</th>\n",
              "      <td>0</td>\n",
              "      <td>@babydollniki Almost a thousand dollars.</td>\n",
              "      <td>babydollniki almost thousand dollar</td>\n",
              "    </tr>\n",
              "    <tr>\n",
              "      <th>2</th>\n",
              "      <td>0</td>\n",
              "      <td>hard to concentrate, exams are so close</td>\n",
              "      <td>ard concentrate exam close</td>\n",
              "    </tr>\n",
              "    <tr>\n",
              "      <th>3</th>\n",
              "      <td>0</td>\n",
              "      <td>Button missed corner  #f1</td>\n",
              "      <td>utton missed corner f1</td>\n",
              "    </tr>\n",
              "    <tr>\n",
              "      <th>4</th>\n",
              "      <td>4</td>\n",
              "      <td>@ElkaBr  Good Morning  How are you? How is you...</td>\n",
              "      <td>elkabr good morning little princess feeling</td>\n",
              "    </tr>\n",
              "    <tr>\n",
              "      <th>...</th>\n",
              "      <td>...</td>\n",
              "      <td>...</td>\n",
              "      <td>...</td>\n",
              "    </tr>\n",
              "    <tr>\n",
              "      <th>255208</th>\n",
              "      <td>2</td>\n",
              "      <td>case dont look candidate then that case person...</td>\n",
              "      <td>ase dont look candidate case person like manmo...</td>\n",
              "    </tr>\n",
              "    <tr>\n",
              "      <th>255209</th>\n",
              "      <td>2</td>\n",
              "      <td>congress veteran sudhakar reddy joins bjp afte...</td>\n",
              "      <td>ongress veteran sudhakar reddy join bjp meetin...</td>\n",
              "    </tr>\n",
              "    <tr>\n",
              "      <th>255210</th>\n",
              "      <td>2</td>\n",
              "      <td>save your agenda peddling ’ had with terror at...</td>\n",
              "      <td>ave agenda peddling terror attack every second...</td>\n",
              "    </tr>\n",
              "    <tr>\n",
              "      <th>255211</th>\n",
              "      <td>2</td>\n",
              "      <td>did you cover her interaction forum where she ...</td>\n",
              "      <td>id cover interaction forum left</td>\n",
              "    </tr>\n",
              "    <tr>\n",
              "      <th>255212</th>\n",
              "      <td>2</td>\n",
              "      <td>there big project came into india modi dream p...</td>\n",
              "      <td>big project came india modi dream project happ...</td>\n",
              "    </tr>\n",
              "  </tbody>\n",
              "</table>\n",
              "<p>254359 rows × 3 columns</p>\n",
              "</div>"
            ],
            "text/plain": [
              "        polarity  ...                                   processed_tweets\n",
              "0              0  ...  craziex3 hangover haha amp didnt co laaaate am...\n",
              "1              0  ...                babydollniki almost thousand dollar\n",
              "2              0  ...                         ard concentrate exam close\n",
              "3              0  ...                             utton missed corner f1\n",
              "4              4  ...        elkabr good morning little princess feeling\n",
              "...          ...  ...                                                ...\n",
              "255208         2  ...  ase dont look candidate case person like manmo...\n",
              "255209         2  ...  ongress veteran sudhakar reddy join bjp meetin...\n",
              "255210         2  ...  ave agenda peddling terror attack every second...\n",
              "255211         2  ...                    id cover interaction forum left\n",
              "255212         2  ...  big project came india modi dream project happ...\n",
              "\n",
              "[254359 rows x 3 columns]"
            ]
          },
          "metadata": {
            "tags": []
          },
          "execution_count": 14
        }
      ]
    },
    {
      "cell_type": "code",
      "metadata": {
        "id": "Z_EBLZM42Obp",
        "colab": {
          "base_uri": "https://localhost:8080/"
        },
        "outputId": "c591de79-7b4e-477e-9cad-d513aad8f0e7"
      },
      "source": [
        "X = data['processed_tweets'].values\n",
        "y = data['polarity'].values\n",
        "X"
      ],
      "execution_count": null,
      "outputs": [
        {
          "output_type": "execute_result",
          "data": {
            "text/plain": [
              "array(['craziex3 hangover haha amp didnt co laaaate amp bed still',\n",
              "       'babydollniki almost thousand dollar',\n",
              "       'ard concentrate exam close', ...,\n",
              "       'ave agenda peddling terror attack every second day maun mohan keeping stoic silence india made mockery whatever keep trying modi coming back thumping majority time darbaris numbered',\n",
              "       'id cover interaction forum left',\n",
              "       'big project came india modi dream project happened reality'],\n",
              "      dtype=object)"
            ]
          },
          "metadata": {
            "tags": []
          },
          "execution_count": 15
        }
      ]
    },
    {
      "cell_type": "code",
      "metadata": {
        "colab": {
          "base_uri": "https://localhost:8080/"
        },
        "id": "m54hpuk62bVg",
        "outputId": "d7162c78-f0c5-478b-9acb-61bda251465d"
      },
      "source": [
        "#Convert a collection of raw documents to a matrix of TF-IDF features.\n",
        "\n",
        "vector = TfidfVectorizer(sublinear_tf=True)\n",
        "vector.fit(X)                         # To fit X\n",
        "X=vector.transform(X)                 # To transform X\n",
        "print(f'Vector fitted.')\n",
        "print('No. of feature_words: ', len(vector.get_feature_names()))\n",
        "\n"
      ],
      "execution_count": null,
      "outputs": [
        {
          "output_type": "stream",
          "text": [
            "Vector fitted.\n",
            "No. of feature_words:  202056\n"
          ],
          "name": "stdout"
        }
      ]
    },
    {
      "cell_type": "code",
      "metadata": {
        "id": "fjeWTRGH4Yre"
      },
      "source": [
        "# Splitting the data\n",
        "\n",
        "X_train, X_test, y_train, y_test = train_test_split(X, y, test_size = 0.20, random_state=10)"
      ],
      "execution_count": null,
      "outputs": []
    },
    {
      "cell_type": "code",
      "metadata": {
        "id": "K3mr7E9l63ws"
      },
      "source": [
        "# Model\n",
        "def model_Evaluate(model):\n",
        "    #accuracy of model on training data\n",
        "    acc_train=model.score(X_train, y_train)\n",
        "    #accuracy of model on test data\n",
        "    acc_test=model.score(X_test, y_test)\n",
        "    \n",
        "\n",
        "    # Predict values for Test dataset\n",
        "    y_pred = model.predict(X_test)\n",
        "\n",
        "    # Print the evaluation metrics for the dataset.\n",
        "    print(classification_report(y_test, y_pred))"
      ],
      "execution_count": null,
      "outputs": []
    },
    {
      "cell_type": "code",
      "metadata": {
        "colab": {
          "base_uri": "https://localhost:8080/"
        },
        "id": "aPXbw9SF664b",
        "outputId": "baf76105-1224-4069-9261-ffe3e6995604"
      },
      "source": [
        "#Evaluate the model and applying Bernoulli Naive Bayes\n",
        "nb = BernoulliNB()\n",
        "nb.fit(X_train, y_train)\n",
        "model_Evaluate(nb)"
      ],
      "execution_count": null,
      "outputs": [
        {
          "output_type": "stream",
          "text": [
            "              precision    recall  f1-score   support\n",
            "\n",
            "           0       0.74      0.77      0.75     19804\n",
            "           2       0.99      0.96      0.97     11134\n",
            "           4       0.75      0.74      0.74     19934\n",
            "\n",
            "    accuracy                           0.80     50872\n",
            "   macro avg       0.83      0.82      0.82     50872\n",
            "weighted avg       0.80      0.80      0.80     50872\n",
            "\n"
          ],
          "name": "stdout"
        }
      ]
    },
    {
      "cell_type": "code",
      "metadata": {
        "id": "7Vh9C3qn7Dow"
      },
      "source": [
        "# Loading our test data\n",
        "\n",
        "covid_Data = pd.read_csv('/content/drive/MyDrive/Colab Notebooks/covid_Data.csv')"
      ],
      "execution_count": null,
      "outputs": []
    },
    {
      "cell_type": "code",
      "metadata": {
        "colab": {
          "base_uri": "https://localhost:8080/",
          "height": 402
        },
        "id": "7GIPFA159BCp",
        "outputId": "886f37a7-9bcb-4772-8a3d-d6df624fe5a3"
      },
      "source": [
        "covid_Data"
      ],
      "execution_count": null,
      "outputs": [
        {
          "output_type": "execute_result",
          "data": {
            "text/html": [
              "<div>\n",
              "<style scoped>\n",
              "    .dataframe tbody tr th:only-of-type {\n",
              "        vertical-align: middle;\n",
              "    }\n",
              "\n",
              "    .dataframe tbody tr th {\n",
              "        vertical-align: top;\n",
              "    }\n",
              "\n",
              "    .dataframe thead th {\n",
              "        text-align: right;\n",
              "    }\n",
              "</style>\n",
              "<table border=\"1\" class=\"dataframe\">\n",
              "  <thead>\n",
              "    <tr style=\"text-align: right;\">\n",
              "      <th></th>\n",
              "      <th>Unnamed: 0</th>\n",
              "      <th>text</th>\n",
              "      <th>location</th>\n",
              "    </tr>\n",
              "  </thead>\n",
              "  <tbody>\n",
              "    <tr>\n",
              "      <th>0</th>\n",
              "      <td>1</td>\n",
              "      <td>@BSYBJP @PMOIndia @narendramodi @mla_sudhakar ...</td>\n",
              "      <td>City of London, London</td>\n",
              "    </tr>\n",
              "    <tr>\n",
              "      <th>1</th>\n",
              "      <td>2</td>\n",
              "      <td>@KhatamEvm @chetan_bhagat Trgts..covishield 10...</td>\n",
              "      <td>कोलकाता, भारत</td>\n",
              "    </tr>\n",
              "    <tr>\n",
              "      <th>2</th>\n",
              "      <td>4</td>\n",
              "      <td>The first jab of the Sputnik V vaccine has bee...</td>\n",
              "      <td>Sri Lanka</td>\n",
              "    </tr>\n",
              "    <tr>\n",
              "      <th>3</th>\n",
              "      <td>5</td>\n",
              "      <td>@Tejasvi_Surya @JPNadda India gets 18 million ...</td>\n",
              "      <td>Bangalore</td>\n",
              "    </tr>\n",
              "    <tr>\n",
              "      <th>4</th>\n",
              "      <td>6</td>\n",
              "      <td>@washingtonpost The United States put pressure...</td>\n",
              "      <td>Málaga, España</td>\n",
              "    </tr>\n",
              "    <tr>\n",
              "      <th>...</th>\n",
              "      <td>...</td>\n",
              "      <td>...</td>\n",
              "      <td>...</td>\n",
              "    </tr>\n",
              "    <tr>\n",
              "      <th>13750</th>\n",
              "      <td>16229</td>\n",
              "      <td>@bustin456 @theMrMobile India does have its ow...</td>\n",
              "      <td>India</td>\n",
              "    </tr>\n",
              "    <tr>\n",
              "      <th>13751</th>\n",
              "      <td>16230</td>\n",
              "      <td>Congratulations India for Getting Oxford Vacci...</td>\n",
              "      <td>San Diego, CA, USA</td>\n",
              "    </tr>\n",
              "    <tr>\n",
              "      <th>13752</th>\n",
              "      <td>16232</td>\n",
              "      <td>@lancelot_pinto This happened to me on April 4...</td>\n",
              "      <td>Bengaluru, India</td>\n",
              "    </tr>\n",
              "    <tr>\n",
              "      <th>13753</th>\n",
              "      <td>16233</td>\n",
              "      <td>Central govt allocated 44,500 vials of Remdesi...</td>\n",
              "      <td>New Delhi</td>\n",
              "    </tr>\n",
              "    <tr>\n",
              "      <th>13754</th>\n",
              "      <td>16234</td>\n",
              "      <td>Powerful Indians Making Aggressive Calls For V...</td>\n",
              "      <td>Bhubaneswar, India</td>\n",
              "    </tr>\n",
              "  </tbody>\n",
              "</table>\n",
              "<p>13755 rows × 3 columns</p>\n",
              "</div>"
            ],
            "text/plain": [
              "       Unnamed: 0  ...                location\n",
              "0               1  ...  City of London, London\n",
              "1               2  ...           कोलकाता, भारत\n",
              "2               4  ...               Sri Lanka\n",
              "3               5  ...               Bangalore\n",
              "4               6  ...          Málaga, España\n",
              "...           ...  ...                     ...\n",
              "13750       16229  ...                   India\n",
              "13751       16230  ...      San Diego, CA, USA\n",
              "13752       16232  ...        Bengaluru, India\n",
              "13753       16233  ...               New Delhi\n",
              "13754       16234  ...      Bhubaneswar, India\n",
              "\n",
              "[13755 rows x 3 columns]"
            ]
          },
          "metadata": {
            "tags": []
          },
          "execution_count": 21
        }
      ]
    },
    {
      "cell_type": "code",
      "metadata": {
        "colab": {
          "base_uri": "https://localhost:8080/"
        },
        "id": "x-8PcviQ87uv",
        "outputId": "a628cdf7-227a-4fc3-d88c-fbaad4ebb064"
      },
      "source": [
        "#Checking if any null values present\n",
        "(covid_Data.isnull().sum() / len(data))*100"
      ],
      "execution_count": null,
      "outputs": [
        {
          "output_type": "execute_result",
          "data": {
            "text/plain": [
              "Unnamed: 0    0.0\n",
              "text          0.0\n",
              "location      0.0\n",
              "dtype: float64"
            ]
          },
          "metadata": {
            "tags": []
          },
          "execution_count": 22
        }
      ]
    },
    {
      "cell_type": "code",
      "metadata": {
        "colab": {
          "base_uri": "https://localhost:8080/"
        },
        "id": "PSoIvpGe8_RS",
        "outputId": "d2aace12-2b99-4e82-e225-cb13cdbe006a"
      },
      "source": [
        "# Dropping inwanted columns \n",
        "\n",
        "covid_Data = covid_Data.drop('Unnamed: 0', axis =1)\n",
        "print(covid_Data.shape)"
      ],
      "execution_count": null,
      "outputs": [
        {
          "output_type": "stream",
          "text": [
            "(13755, 2)\n"
          ],
          "name": "stdout"
        }
      ]
    },
    {
      "cell_type": "code",
      "metadata": {
        "id": "QccnLsCl9O4U"
      },
      "source": [
        "#converting pandas object to a string type\n",
        "\n",
        "covid_Data['text'] = covid_Data['text'].astype('str')"
      ],
      "execution_count": null,
      "outputs": []
    },
    {
      "cell_type": "code",
      "metadata": {
        "colab": {
          "base_uri": "https://localhost:8080/"
        },
        "id": "NK0Elj3o9wl6",
        "outputId": "f823be9d-3dd6-45cd-dfe7-f868800dc942"
      },
      "source": [
        "# Passing tweets to above method for cleaning\n",
        "\n",
        "covid_Data['processed_tweets'] = covid_Data['text'].apply(lambda x: process_tweets(x))\n",
        "print('Text Preprocessing complete.')"
      ],
      "execution_count": null,
      "outputs": [
        {
          "output_type": "stream",
          "text": [
            "Text Preprocessing complete.\n"
          ],
          "name": "stdout"
        }
      ]
    },
    {
      "cell_type": "code",
      "metadata": {
        "colab": {
          "base_uri": "https://localhost:8080/",
          "height": 402
        },
        "id": "sR3mbdiT92zt",
        "outputId": "99a6b734-41af-4a77-ad29-48f4fc7edc6a"
      },
      "source": [
        "covid_Data"
      ],
      "execution_count": null,
      "outputs": [
        {
          "output_type": "execute_result",
          "data": {
            "text/html": [
              "<div>\n",
              "<style scoped>\n",
              "    .dataframe tbody tr th:only-of-type {\n",
              "        vertical-align: middle;\n",
              "    }\n",
              "\n",
              "    .dataframe tbody tr th {\n",
              "        vertical-align: top;\n",
              "    }\n",
              "\n",
              "    .dataframe thead th {\n",
              "        text-align: right;\n",
              "    }\n",
              "</style>\n",
              "<table border=\"1\" class=\"dataframe\">\n",
              "  <thead>\n",
              "    <tr style=\"text-align: right;\">\n",
              "      <th></th>\n",
              "      <th>text</th>\n",
              "      <th>location</th>\n",
              "      <th>processed_tweets</th>\n",
              "    </tr>\n",
              "  </thead>\n",
              "  <tbody>\n",
              "    <tr>\n",
              "      <th>0</th>\n",
              "      <td>@BSYBJP @PMOIndia @narendramodi @mla_sudhakar ...</td>\n",
              "      <td>City of London, London</td>\n",
              "      <td>bsybjp vaccine 18 mysore karnataka please arra...</td>\n",
              "    </tr>\n",
              "    <tr>\n",
              "      <th>1</th>\n",
              "      <td>@KhatamEvm @chetan_bhagat Trgts..covishield 10...</td>\n",
              "      <td>कोलकाता, भारत</td>\n",
              "      <td>khatamevm trgtscovishield 1012crcovaxin 8crzyd...</td>\n",
              "    </tr>\n",
              "    <tr>\n",
              "      <th>2</th>\n",
              "      <td>The first jab of the Sputnik V vaccine has bee...</td>\n",
              "      <td>Sri Lanka</td>\n",
              "      <td>first jab sputnik vaccine given 4380 people fa...</td>\n",
              "    </tr>\n",
              "    <tr>\n",
              "      <th>3</th>\n",
              "      <td>@Tejasvi_Surya @JPNadda India gets 18 million ...</td>\n",
              "      <td>Bangalore</td>\n",
              "      <td>tejasvisurya india get 18 million readymade do...</td>\n",
              "    </tr>\n",
              "    <tr>\n",
              "      <th>4</th>\n",
              "      <td>@washingtonpost The United States put pressure...</td>\n",
              "      <td>Málaga, España</td>\n",
              "      <td>washingtonpost united state put pressure brazi...</td>\n",
              "    </tr>\n",
              "    <tr>\n",
              "      <th>...</th>\n",
              "      <td>...</td>\n",
              "      <td>...</td>\n",
              "      <td>...</td>\n",
              "    </tr>\n",
              "    <tr>\n",
              "      <th>13750</th>\n",
              "      <td>@bustin456 @theMrMobile India does have its ow...</td>\n",
              "      <td>India</td>\n",
              "      <td>bustin456 india vaccine called covaxin covishi...</td>\n",
              "    </tr>\n",
              "    <tr>\n",
              "      <th>13751</th>\n",
              "      <td>Congratulations India for Getting Oxford Vacci...</td>\n",
              "      <td>San Diego, CA, USA</td>\n",
              "      <td>ongratulations india getting oxford vaccine in...</td>\n",
              "    </tr>\n",
              "    <tr>\n",
              "      <th>13752</th>\n",
              "      <td>@lancelot_pinto This happened to me on April 4...</td>\n",
              "      <td>Bengaluru, India</td>\n",
              "      <td>lancelotpinto happened april 4th mild symptom ...</td>\n",
              "    </tr>\n",
              "    <tr>\n",
              "      <th>13753</th>\n",
              "      <td>Central govt allocated 44,500 vials of Remdesi...</td>\n",
              "      <td>New Delhi</td>\n",
              "      <td>entral govt allocated 44500 vial remdesivir bi...</td>\n",
              "    </tr>\n",
              "    <tr>\n",
              "      <th>13754</th>\n",
              "      <td>Powerful Indians Making Aggressive Calls For V...</td>\n",
              "      <td>Bhubaneswar, India</td>\n",
              "      <td>owerful indian making aggressive call vaccine ...</td>\n",
              "    </tr>\n",
              "  </tbody>\n",
              "</table>\n",
              "<p>13755 rows × 3 columns</p>\n",
              "</div>"
            ],
            "text/plain": [
              "                                                    text  ...                                   processed_tweets\n",
              "0      @BSYBJP @PMOIndia @narendramodi @mla_sudhakar ...  ...  bsybjp vaccine 18 mysore karnataka please arra...\n",
              "1      @KhatamEvm @chetan_bhagat Trgts..covishield 10...  ...  khatamevm trgtscovishield 1012crcovaxin 8crzyd...\n",
              "2      The first jab of the Sputnik V vaccine has bee...  ...  first jab sputnik vaccine given 4380 people fa...\n",
              "3      @Tejasvi_Surya @JPNadda India gets 18 million ...  ...  tejasvisurya india get 18 million readymade do...\n",
              "4      @washingtonpost The United States put pressure...  ...  washingtonpost united state put pressure brazi...\n",
              "...                                                  ...  ...                                                ...\n",
              "13750  @bustin456 @theMrMobile India does have its ow...  ...  bustin456 india vaccine called covaxin covishi...\n",
              "13751  Congratulations India for Getting Oxford Vacci...  ...  ongratulations india getting oxford vaccine in...\n",
              "13752  @lancelot_pinto This happened to me on April 4...  ...  lancelotpinto happened april 4th mild symptom ...\n",
              "13753  Central govt allocated 44,500 vials of Remdesi...  ...  entral govt allocated 44500 vial remdesivir bi...\n",
              "13754  Powerful Indians Making Aggressive Calls For V...  ...  owerful indian making aggressive call vaccine ...\n",
              "\n",
              "[13755 rows x 3 columns]"
            ]
          },
          "metadata": {
            "tags": []
          },
          "execution_count": 26
        }
      ]
    },
    {
      "cell_type": "code",
      "metadata": {
        "colab": {
          "base_uri": "https://localhost:8080/"
        },
        "id": "VKk7ZPAE95xx",
        "outputId": "5ef98a9c-2895-4d8f-e164-16ef3fa6a492"
      },
      "source": [
        "# Saving it in a new variable for predicting\n",
        "\n",
        "X_test_new1 = covid_Data.processed_tweets.values\n",
        "X_test_new1"
      ],
      "execution_count": null,
      "outputs": [
        {
          "output_type": "execute_result",
          "data": {
            "text/plain": [
              "array(['bsybjp vaccine 18 mysore karnataka please arrange for…',\n",
              "       'khatamevm trgtscovishield 1012crcovaxin 8crzydus 7cr sputnik 7cr total 32 cr per montht…',\n",
              "       'first jab sputnik vaccine given 4380 people far health ministry said read th…',\n",
              "       ...,\n",
              "       'lancelotpinto happened april 4th mild symptom april 2nd ignored took fi…',\n",
              "       'entral govt allocated 44500 vial remdesivir bihar health minister covid19…',\n",
              "       'owerful indian making aggressive call vaccine poonawalla covid19 covishield'],\n",
              "      dtype=object)"
            ]
          },
          "metadata": {
            "tags": []
          },
          "execution_count": 27
        }
      ]
    },
    {
      "cell_type": "code",
      "metadata": {
        "colab": {
          "base_uri": "https://localhost:8080/"
        },
        "id": "UM3TPa_b99sh",
        "outputId": "c293bba1-02a7-4098-d372-2faa0fd2d753"
      },
      "source": [
        "#Convert a collection of raw documents to a matrix of TF-IDF features.\n",
        "X_test_new1 = vector.transform(X_test_new1)\n",
        "print(f'Vector fitted.')\n",
        "print('No. of feature_words: ', len(vector.get_feature_names()))\n",
        "X_test_new1"
      ],
      "execution_count": null,
      "outputs": [
        {
          "output_type": "stream",
          "text": [
            "Vector fitted.\n",
            "No. of feature_words:  202056\n"
          ],
          "name": "stdout"
        },
        {
          "output_type": "execute_result",
          "data": {
            "text/plain": [
              "<13755x202056 sparse matrix of type '<class 'numpy.float64'>'\n",
              "\twith 96776 stored elements in Compressed Sparse Row format>"
            ]
          },
          "metadata": {
            "tags": []
          },
          "execution_count": 28
        }
      ]
    },
    {
      "cell_type": "code",
      "metadata": {
        "colab": {
          "base_uri": "https://localhost:8080/"
        },
        "id": "C-GyeFC4-DXL",
        "outputId": "5ed48e5f-176a-46e2-ccf0-0624a556b80d"
      },
      "source": [
        "# Checking prediction of model for 1 value\n",
        "\n",
        "nb.predict(X_test_new1[1])"
      ],
      "execution_count": null,
      "outputs": [
        {
          "output_type": "execute_result",
          "data": {
            "text/plain": [
              "array([2])"
            ]
          },
          "metadata": {
            "tags": []
          },
          "execution_count": 29
        }
      ]
    },
    {
      "cell_type": "code",
      "metadata": {
        "id": "GaJoPu13-MYW"
      },
      "source": [
        "# Prediciting for the covid dataset and saving into a new variable\n",
        "\n",
        "df_predicted = nb.predict(X_test_new1)"
      ],
      "execution_count": null,
      "outputs": []
    },
    {
      "cell_type": "code",
      "metadata": {
        "id": "rjTXAUUv-3-n"
      },
      "source": [
        "# Converting to DataFrame as df cannot contain nd-array\n",
        "\n",
        "y_hats  = pd.DataFrame(df_predicted)"
      ],
      "execution_count": null,
      "outputs": []
    },
    {
      "cell_type": "code",
      "metadata": {
        "id": "F9ZcLT3-_CWy"
      },
      "source": [
        "# Adding the prediction to a new dataframe\n",
        "\n",
        "df_final = covid_Data.reset_index()\n",
        "df_final[\"Prediction\"] = y_hats.reset_index()[0]\n"
      ],
      "execution_count": null,
      "outputs": []
    },
    {
      "cell_type": "code",
      "metadata": {
        "colab": {
          "base_uri": "https://localhost:8080/",
          "height": 402
        },
        "id": "ML9eyIYS_pYl",
        "outputId": "b2531df0-ca63-4c4a-abe3-6640b8dbe23a"
      },
      "source": [
        "df_final"
      ],
      "execution_count": null,
      "outputs": [
        {
          "output_type": "execute_result",
          "data": {
            "text/html": [
              "<div>\n",
              "<style scoped>\n",
              "    .dataframe tbody tr th:only-of-type {\n",
              "        vertical-align: middle;\n",
              "    }\n",
              "\n",
              "    .dataframe tbody tr th {\n",
              "        vertical-align: top;\n",
              "    }\n",
              "\n",
              "    .dataframe thead th {\n",
              "        text-align: right;\n",
              "    }\n",
              "</style>\n",
              "<table border=\"1\" class=\"dataframe\">\n",
              "  <thead>\n",
              "    <tr style=\"text-align: right;\">\n",
              "      <th></th>\n",
              "      <th>index</th>\n",
              "      <th>text</th>\n",
              "      <th>location</th>\n",
              "      <th>processed_tweets</th>\n",
              "      <th>Prediction</th>\n",
              "    </tr>\n",
              "  </thead>\n",
              "  <tbody>\n",
              "    <tr>\n",
              "      <th>0</th>\n",
              "      <td>0</td>\n",
              "      <td>@BSYBJP @PMOIndia @narendramodi @mla_sudhakar ...</td>\n",
              "      <td>City of London, London</td>\n",
              "      <td>bsybjp vaccine 18 mysore karnataka please arra...</td>\n",
              "      <td>2</td>\n",
              "    </tr>\n",
              "    <tr>\n",
              "      <th>1</th>\n",
              "      <td>1</td>\n",
              "      <td>@KhatamEvm @chetan_bhagat Trgts..covishield 10...</td>\n",
              "      <td>कोलकाता, भारत</td>\n",
              "      <td>khatamevm trgtscovishield 1012crcovaxin 8crzyd...</td>\n",
              "      <td>2</td>\n",
              "    </tr>\n",
              "    <tr>\n",
              "      <th>2</th>\n",
              "      <td>2</td>\n",
              "      <td>The first jab of the Sputnik V vaccine has bee...</td>\n",
              "      <td>Sri Lanka</td>\n",
              "      <td>first jab sputnik vaccine given 4380 people fa...</td>\n",
              "      <td>2</td>\n",
              "    </tr>\n",
              "    <tr>\n",
              "      <th>3</th>\n",
              "      <td>3</td>\n",
              "      <td>@Tejasvi_Surya @JPNadda India gets 18 million ...</td>\n",
              "      <td>Bangalore</td>\n",
              "      <td>tejasvisurya india get 18 million readymade do...</td>\n",
              "      <td>4</td>\n",
              "    </tr>\n",
              "    <tr>\n",
              "      <th>4</th>\n",
              "      <td>4</td>\n",
              "      <td>@washingtonpost The United States put pressure...</td>\n",
              "      <td>Málaga, España</td>\n",
              "      <td>washingtonpost united state put pressure brazi...</td>\n",
              "      <td>0</td>\n",
              "    </tr>\n",
              "    <tr>\n",
              "      <th>...</th>\n",
              "      <td>...</td>\n",
              "      <td>...</td>\n",
              "      <td>...</td>\n",
              "      <td>...</td>\n",
              "      <td>...</td>\n",
              "    </tr>\n",
              "    <tr>\n",
              "      <th>13750</th>\n",
              "      <td>13750</td>\n",
              "      <td>@bustin456 @theMrMobile India does have its ow...</td>\n",
              "      <td>India</td>\n",
              "      <td>bustin456 india vaccine called covaxin covishi...</td>\n",
              "      <td>2</td>\n",
              "    </tr>\n",
              "    <tr>\n",
              "      <th>13751</th>\n",
              "      <td>13751</td>\n",
              "      <td>Congratulations India for Getting Oxford Vacci...</td>\n",
              "      <td>San Diego, CA, USA</td>\n",
              "      <td>ongratulations india getting oxford vaccine in...</td>\n",
              "      <td>2</td>\n",
              "    </tr>\n",
              "    <tr>\n",
              "      <th>13752</th>\n",
              "      <td>13752</td>\n",
              "      <td>@lancelot_pinto This happened to me on April 4...</td>\n",
              "      <td>Bengaluru, India</td>\n",
              "      <td>lancelotpinto happened april 4th mild symptom ...</td>\n",
              "      <td>0</td>\n",
              "    </tr>\n",
              "    <tr>\n",
              "      <th>13753</th>\n",
              "      <td>13753</td>\n",
              "      <td>Central govt allocated 44,500 vials of Remdesi...</td>\n",
              "      <td>New Delhi</td>\n",
              "      <td>entral govt allocated 44500 vial remdesivir bi...</td>\n",
              "      <td>2</td>\n",
              "    </tr>\n",
              "    <tr>\n",
              "      <th>13754</th>\n",
              "      <td>13754</td>\n",
              "      <td>Powerful Indians Making Aggressive Calls For V...</td>\n",
              "      <td>Bhubaneswar, India</td>\n",
              "      <td>owerful indian making aggressive call vaccine ...</td>\n",
              "      <td>2</td>\n",
              "    </tr>\n",
              "  </tbody>\n",
              "</table>\n",
              "<p>13755 rows × 5 columns</p>\n",
              "</div>"
            ],
            "text/plain": [
              "       index  ... Prediction\n",
              "0          0  ...          2\n",
              "1          1  ...          2\n",
              "2          2  ...          2\n",
              "3          3  ...          4\n",
              "4          4  ...          0\n",
              "...      ...  ...        ...\n",
              "13750  13750  ...          2\n",
              "13751  13751  ...          2\n",
              "13752  13752  ...          0\n",
              "13753  13753  ...          2\n",
              "13754  13754  ...          2\n",
              "\n",
              "[13755 rows x 5 columns]"
            ]
          },
          "metadata": {
            "tags": []
          },
          "execution_count": 33
        }
      ]
    },
    {
      "cell_type": "code",
      "metadata": {
        "colab": {
          "base_uri": "https://localhost:8080/"
        },
        "id": "9G06FESG_sd8",
        "outputId": "c78e27b2-daad-4049-f09e-336351dcea43"
      },
      "source": [
        "# Check count of each polarity\n",
        "\n",
        "df_final.Prediction.value_counts()"
      ],
      "execution_count": null,
      "outputs": [
        {
          "output_type": "execute_result",
          "data": {
            "text/plain": [
              "0    6692\n",
              "4    4040\n",
              "2    3023\n",
              "Name: Prediction, dtype: int64"
            ]
          },
          "metadata": {
            "tags": []
          },
          "execution_count": 34
        }
      ]
    },
    {
      "cell_type": "code",
      "metadata": {
        "colab": {
          "base_uri": "https://localhost:8080/"
        },
        "id": "AdZ0LzxnC03B",
        "outputId": "9c045c99-b5d1-4ae8-ba5d-a72f46391fb8"
      },
      "source": [
        "# Check count of tweets w.r.t location\n",
        "\n",
        "print(df_final['location'].value_counts())"
      ],
      "execution_count": null,
      "outputs": [
        {
          "output_type": "stream",
          "text": [
            "India                      1343\n",
            "Mumbai, India               779\n",
            "New Delhi, India            597\n",
            "Mumbai                      476\n",
            "Pune                        299\n",
            "                           ... \n",
            "Frederick, MD                 1\n",
            "19th Century Russia           1\n",
            "Rishikesh, Uttaranchal        1\n",
            "trivandrum, south india       1\n",
            "India,Mumbai,Goregaon..       1\n",
            "Name: location, Length: 3603, dtype: int64\n"
          ],
          "name": "stdout"
        }
      ]
    },
    {
      "cell_type": "code",
      "metadata": {
        "colab": {
          "base_uri": "https://localhost:8080/",
          "height": 402
        },
        "id": "t69As-XTD7fV",
        "outputId": "3750f72b-eaf7-4fba-e7eb-986b6b8d5fc3"
      },
      "source": [
        "# Count of tweets in Pune\n",
        "df_pune = df_final.loc[df_final['location'] == \"Pune\"]\n",
        "  \n",
        "df_pune"
      ],
      "execution_count": null,
      "outputs": [
        {
          "output_type": "execute_result",
          "data": {
            "text/html": [
              "<div>\n",
              "<style scoped>\n",
              "    .dataframe tbody tr th:only-of-type {\n",
              "        vertical-align: middle;\n",
              "    }\n",
              "\n",
              "    .dataframe tbody tr th {\n",
              "        vertical-align: top;\n",
              "    }\n",
              "\n",
              "    .dataframe thead th {\n",
              "        text-align: right;\n",
              "    }\n",
              "</style>\n",
              "<table border=\"1\" class=\"dataframe\">\n",
              "  <thead>\n",
              "    <tr style=\"text-align: right;\">\n",
              "      <th></th>\n",
              "      <th>index</th>\n",
              "      <th>text</th>\n",
              "      <th>location</th>\n",
              "      <th>processed_tweets</th>\n",
              "      <th>Prediction</th>\n",
              "    </tr>\n",
              "  </thead>\n",
              "  <tbody>\n",
              "    <tr>\n",
              "      <th>1111</th>\n",
              "      <td>1111</td>\n",
              "      <td>A new Sputnik Light Vaccine! It’s a revolution...</td>\n",
              "      <td>Pune</td>\n",
              "      <td>new sputnik light vaccine revolutionary 1shot ...</td>\n",
              "      <td>0</td>\n",
              "    </tr>\n",
              "    <tr>\n",
              "      <th>2614</th>\n",
              "      <td>2614</td>\n",
              "      <td>@TimLitt35463134 @adarpoonawalla @SerumInstInd...</td>\n",
              "      <td>Pune</td>\n",
              "      <td>timlitt35463134 difference make use option like…</td>\n",
              "      <td>0</td>\n",
              "    </tr>\n",
              "    <tr>\n",
              "      <th>3833</th>\n",
              "      <td>3833</td>\n",
              "      <td>@IAS_Rubal much appreciate all that you are do...</td>\n",
              "      <td>Pune</td>\n",
              "      <td>iasrubal much appreciate mother wheelchair bou...</td>\n",
              "      <td>4</td>\n",
              "    </tr>\n",
              "    <tr>\n",
              "      <th>4437</th>\n",
              "      <td>4437</td>\n",
              "      <td>@rajeshtope11 @pcmcindiagovin @PCMCSarathi @ra...</td>\n",
              "      <td>Pune</td>\n",
              "      <td>rajeshtope11 let start drivein vaccination fac...</td>\n",
              "      <td>0</td>\n",
              "    </tr>\n",
              "    <tr>\n",
              "      <th>4920</th>\n",
              "      <td>4920</td>\n",
              "      <td>@AkhileshTekade @Jay_Patil_ @SanjayJog7 @rajes...</td>\n",
              "      <td>Pune</td>\n",
              "      <td>akhileshtekade covishield lot time cidrap…</td>\n",
              "      <td>4</td>\n",
              "    </tr>\n",
              "    <tr>\n",
              "      <th>...</th>\n",
              "      <td>...</td>\n",
              "      <td>...</td>\n",
              "      <td>...</td>\n",
              "      <td>...</td>\n",
              "      <td>...</td>\n",
              "    </tr>\n",
              "    <tr>\n",
              "      <th>12777</th>\n",
              "      <td>12777</td>\n",
              "      <td>Vaccinated.💉✔️.\\n\\n#vaccinated #Covishield htt...</td>\n",
              "      <td>Pune</td>\n",
              "      <td>accinated💉✔️ vaccinated covishield</td>\n",
              "      <td>4</td>\n",
              "    </tr>\n",
              "    <tr>\n",
              "      <th>12979</th>\n",
              "      <td>12979</td>\n",
              "      <td>Finally took my first shot of #Covishield at P...</td>\n",
              "      <td>Pune</td>\n",
              "      <td>inally took first shot covishield pune cantonm...</td>\n",
              "      <td>0</td>\n",
              "    </tr>\n",
              "    <tr>\n",
              "      <th>13002</th>\n",
              "      <td>13002</td>\n",
              "      <td>Dear Omkar Anil Inamdar, You have successfully...</td>\n",
              "      <td>Pune</td>\n",
              "      <td>ear omkar anil inamdar successfully vaccinated...</td>\n",
              "      <td>2</td>\n",
              "    </tr>\n",
              "    <tr>\n",
              "      <th>13020</th>\n",
              "      <td>13020</td>\n",
              "      <td>@pertinacious_me It's Covishield in Pune. But ...</td>\n",
              "      <td>Pune</td>\n",
              "      <td>pertinaciousme covishield pune manage buddy th...</td>\n",
              "      <td>4</td>\n",
              "    </tr>\n",
              "    <tr>\n",
              "      <th>13506</th>\n",
              "      <td>13506</td>\n",
              "      <td>@carlzimmer Thailand has seen much more increa...</td>\n",
              "      <td>Pune</td>\n",
              "      <td>carlzimmer thailand seen much increase april 2...</td>\n",
              "      <td>4</td>\n",
              "    </tr>\n",
              "  </tbody>\n",
              "</table>\n",
              "<p>299 rows × 5 columns</p>\n",
              "</div>"
            ],
            "text/plain": [
              "       index  ... Prediction\n",
              "1111    1111  ...          0\n",
              "2614    2614  ...          0\n",
              "3833    3833  ...          4\n",
              "4437    4437  ...          0\n",
              "4920    4920  ...          4\n",
              "...      ...  ...        ...\n",
              "12777  12777  ...          4\n",
              "12979  12979  ...          0\n",
              "13002  13002  ...          2\n",
              "13020  13020  ...          4\n",
              "13506  13506  ...          4\n",
              "\n",
              "[299 rows x 5 columns]"
            ]
          },
          "metadata": {
            "tags": []
          },
          "execution_count": 36
        }
      ]
    },
    {
      "cell_type": "code",
      "metadata": {
        "colab": {
          "base_uri": "https://localhost:8080/",
          "height": 402
        },
        "id": "sZK0Gb1tEQXJ",
        "outputId": "8adb3158-918f-4fcd-84e8-7c56624a0a27"
      },
      "source": [
        "# Check count of tweets in Mumbai\n",
        "\n",
        "df_mumbai = df_final.loc[df_final['location'] == \"Mumbai\"]\n",
        "  \n",
        "df_mumbai"
      ],
      "execution_count": null,
      "outputs": [
        {
          "output_type": "execute_result",
          "data": {
            "text/html": [
              "<div>\n",
              "<style scoped>\n",
              "    .dataframe tbody tr th:only-of-type {\n",
              "        vertical-align: middle;\n",
              "    }\n",
              "\n",
              "    .dataframe tbody tr th {\n",
              "        vertical-align: top;\n",
              "    }\n",
              "\n",
              "    .dataframe thead th {\n",
              "        text-align: right;\n",
              "    }\n",
              "</style>\n",
              "<table border=\"1\" class=\"dataframe\">\n",
              "  <thead>\n",
              "    <tr style=\"text-align: right;\">\n",
              "      <th></th>\n",
              "      <th>index</th>\n",
              "      <th>text</th>\n",
              "      <th>location</th>\n",
              "      <th>processed_tweets</th>\n",
              "      <th>Prediction</th>\n",
              "    </tr>\n",
              "  </thead>\n",
              "  <tbody>\n",
              "    <tr>\n",
              "      <th>8</th>\n",
              "      <td>8</td>\n",
              "      <td>@rahulpuri Haha! I thought by the time I'd get...</td>\n",
              "      <td>Mumbai</td>\n",
              "      <td>rahulpuri haha thought time id get vaccinated ...</td>\n",
              "      <td>0</td>\n",
              "    </tr>\n",
              "    <tr>\n",
              "      <th>528</th>\n",
              "      <td>528</td>\n",
              "      <td>What is an #adenovirus based vaccine? What hap...</td>\n",
              "      <td>Mumbai</td>\n",
              "      <td>hat adenovirus based vaccine happens live aden...</td>\n",
              "      <td>0</td>\n",
              "    </tr>\n",
              "    <tr>\n",
              "      <th>617</th>\n",
              "      <td>617</td>\n",
              "      <td>“Indian population is at risk and regulators s...</td>\n",
              "      <td>Mumbai</td>\n",
              "      <td>indian population risk regulator carefully exa...</td>\n",
              "      <td>2</td>\n",
              "    </tr>\n",
              "    <tr>\n",
              "      <th>779</th>\n",
              "      <td>779</td>\n",
              "      <td>@Apothecurry @PriyankaPulla It helps if both d...</td>\n",
              "      <td>Mumbai</td>\n",
              "      <td>apothecurry help dos component administration ...</td>\n",
              "      <td>2</td>\n",
              "    </tr>\n",
              "    <tr>\n",
              "      <th>962</th>\n",
              "      <td>962</td>\n",
              "      <td>@nikhilkarani1 So how long before we end up ap...</td>\n",
              "      <td>Mumbai</td>\n",
              "      <td>nikhilkarani1 long end approving india tick bo...</td>\n",
              "      <td>4</td>\n",
              "    </tr>\n",
              "    <tr>\n",
              "      <th>...</th>\n",
              "      <td>...</td>\n",
              "      <td>...</td>\n",
              "      <td>...</td>\n",
              "      <td>...</td>\n",
              "      <td>...</td>\n",
              "    </tr>\n",
              "    <tr>\n",
              "      <th>13618</th>\n",
              "      <td>13618</td>\n",
              "      <td>Raw Materials Are Not Needed For Manufacturing...</td>\n",
              "      <td>Mumbai</td>\n",
              "      <td>aw material needed manufacturing covishield st...</td>\n",
              "      <td>4</td>\n",
              "    </tr>\n",
              "    <tr>\n",
              "      <th>13627</th>\n",
              "      <td>13627</td>\n",
              "      <td>@kunksed Both are great.\\n\\nOur age, Covishiel...</td>\n",
              "      <td>Mumbai</td>\n",
              "      <td>kunksed great age covishield balanced risk rew...</td>\n",
              "      <td>4</td>\n",
              "    </tr>\n",
              "    <tr>\n",
              "      <th>13692</th>\n",
              "      <td>13692</td>\n",
              "      <td>Vaccination for ages 18-44 to continue at the ...</td>\n",
              "      <td>Mumbai</td>\n",
              "      <td>accination age 1844 continue centre tomorrow 9...</td>\n",
              "      <td>0</td>\n",
              "    </tr>\n",
              "    <tr>\n",
              "      <th>13705</th>\n",
              "      <td>13705</td>\n",
              "      <td>@OpIndia_com On top of this, even after being ...</td>\n",
              "      <td>Mumbai</td>\n",
              "      <td>opindiacom top even provided ylevel security a...</td>\n",
              "      <td>0</td>\n",
              "    </tr>\n",
              "    <tr>\n",
              "      <th>13747</th>\n",
              "      <td>13747</td>\n",
              "      <td>#MCOpinion | It’s logical that the Centre spen...</td>\n",
              "      <td>Mumbai</td>\n",
              "      <td>mcopinion logical centre spends enough money c...</td>\n",
              "      <td>0</td>\n",
              "    </tr>\n",
              "  </tbody>\n",
              "</table>\n",
              "<p>476 rows × 5 columns</p>\n",
              "</div>"
            ],
            "text/plain": [
              "       index  ... Prediction\n",
              "8          8  ...          0\n",
              "528      528  ...          0\n",
              "617      617  ...          2\n",
              "779      779  ...          2\n",
              "962      962  ...          4\n",
              "...      ...  ...        ...\n",
              "13618  13618  ...          4\n",
              "13627  13627  ...          4\n",
              "13692  13692  ...          0\n",
              "13705  13705  ...          0\n",
              "13747  13747  ...          0\n",
              "\n",
              "[476 rows x 5 columns]"
            ]
          },
          "metadata": {
            "tags": []
          },
          "execution_count": 37
        }
      ]
    },
    {
      "cell_type": "code",
      "metadata": {
        "colab": {
          "base_uri": "https://localhost:8080/",
          "height": 402
        },
        "id": "DmDP16TjEYeP",
        "outputId": "d6d8ddfb-599d-4f07-8927-c75db3edfcab"
      },
      "source": [
        "# Check count of tweets in New Delhi\n",
        "\n",
        "df_delhi = df_final.loc[df_final['location'] == \"New Delhi\"]\n",
        "  \n",
        "df_delhi"
      ],
      "execution_count": null,
      "outputs": [
        {
          "output_type": "execute_result",
          "data": {
            "text/html": [
              "<div>\n",
              "<style scoped>\n",
              "    .dataframe tbody tr th:only-of-type {\n",
              "        vertical-align: middle;\n",
              "    }\n",
              "\n",
              "    .dataframe tbody tr th {\n",
              "        vertical-align: top;\n",
              "    }\n",
              "\n",
              "    .dataframe thead th {\n",
              "        text-align: right;\n",
              "    }\n",
              "</style>\n",
              "<table border=\"1\" class=\"dataframe\">\n",
              "  <thead>\n",
              "    <tr style=\"text-align: right;\">\n",
              "      <th></th>\n",
              "      <th>index</th>\n",
              "      <th>text</th>\n",
              "      <th>location</th>\n",
              "      <th>processed_tweets</th>\n",
              "      <th>Prediction</th>\n",
              "    </tr>\n",
              "  </thead>\n",
              "  <tbody>\n",
              "    <tr>\n",
              "      <th>23</th>\n",
              "      <td>23</td>\n",
              "      <td>Two vaccines are currently part of the drive s...</td>\n",
              "      <td>New Delhi</td>\n",
              "      <td>wo vaccine currently part drive since jan 2021...</td>\n",
              "      <td>0</td>\n",
              "    </tr>\n",
              "    <tr>\n",
              "      <th>159</th>\n",
              "      <td>159</td>\n",
              "      <td>36 cr Indians to get Sputnik V jabs by Mar 202...</td>\n",
              "      <td>New Delhi</td>\n",
              "      <td>cr indian get sputnik jab mar 2022 precisely 1...</td>\n",
              "      <td>2</td>\n",
              "    </tr>\n",
              "    <tr>\n",
              "      <th>414</th>\n",
              "      <td>414</td>\n",
              "      <td>@ANI @drharshvardhan Efficiency of available v...</td>\n",
              "      <td>New Delhi</td>\n",
              "      <td>ani efficiency available vaccine india covishi...</td>\n",
              "      <td>0</td>\n",
              "    </tr>\n",
              "    <tr>\n",
              "      <th>682</th>\n",
              "      <td>682</td>\n",
              "      <td>@ArvindKejriwal \\nCM Delhi ..let us inform if ...</td>\n",
              "      <td>New Delhi</td>\n",
              "      <td>arvindkejriwal cm delhi let u inform sputnik a...</td>\n",
              "      <td>2</td>\n",
              "    </tr>\n",
              "    <tr>\n",
              "      <th>707</th>\n",
              "      <td>707</td>\n",
              "      <td>@narendramodi @KirenRijiju Congratulations,......</td>\n",
              "      <td>New Delhi</td>\n",
              "      <td>narendramodi congratulation one query sputnik ...</td>\n",
              "      <td>2</td>\n",
              "    </tr>\n",
              "    <tr>\n",
              "      <th>...</th>\n",
              "      <td>...</td>\n",
              "      <td>...</td>\n",
              "      <td>...</td>\n",
              "      <td>...</td>\n",
              "      <td>...</td>\n",
              "    </tr>\n",
              "    <tr>\n",
              "      <th>13474</th>\n",
              "      <td>13474</td>\n",
              "      <td>@kamaalrkhan Had an excellent meeting with all...</td>\n",
              "      <td>New Delhi</td>\n",
              "      <td>kamaalrkhan excellent meeting partner amp stak...</td>\n",
              "      <td>4</td>\n",
              "    </tr>\n",
              "    <tr>\n",
              "      <th>13498</th>\n",
              "      <td>13498</td>\n",
              "      <td>@Profdilipmandal @adarpoonawalla @AstraZeneca ...</td>\n",
              "      <td>New Delhi</td>\n",
              "      <td>profdilipmandal dont think running…</td>\n",
              "      <td>0</td>\n",
              "    </tr>\n",
              "    <tr>\n",
              "      <th>13554</th>\n",
              "      <td>13554</td>\n",
              "      <td>Vaccine misinformation: Madras high court orde...</td>\n",
              "      <td>New Delhi</td>\n",
              "      <td>accine misinformation madras high court order ...</td>\n",
              "      <td>2</td>\n",
              "    </tr>\n",
              "    <tr>\n",
              "      <th>13659</th>\n",
              "      <td>13659</td>\n",
              "      <td>@SchollFused Boss. Right now india needs covis...</td>\n",
              "      <td>New Delhi</td>\n",
              "      <td>schollfused bos right india need covishield ev...</td>\n",
              "      <td>4</td>\n",
              "    </tr>\n",
              "    <tr>\n",
              "      <th>13753</th>\n",
              "      <td>13753</td>\n",
              "      <td>Central govt allocated 44,500 vials of Remdesi...</td>\n",
              "      <td>New Delhi</td>\n",
              "      <td>entral govt allocated 44500 vial remdesivir bi...</td>\n",
              "      <td>2</td>\n",
              "    </tr>\n",
              "  </tbody>\n",
              "</table>\n",
              "<p>193 rows × 5 columns</p>\n",
              "</div>"
            ],
            "text/plain": [
              "       index  ... Prediction\n",
              "23        23  ...          0\n",
              "159      159  ...          2\n",
              "414      414  ...          0\n",
              "682      682  ...          2\n",
              "707      707  ...          2\n",
              "...      ...  ...        ...\n",
              "13474  13474  ...          4\n",
              "13498  13498  ...          0\n",
              "13554  13554  ...          2\n",
              "13659  13659  ...          4\n",
              "13753  13753  ...          2\n",
              "\n",
              "[193 rows x 5 columns]"
            ]
          },
          "metadata": {
            "tags": []
          },
          "execution_count": 38
        }
      ]
    },
    {
      "cell_type": "code",
      "metadata": {
        "colab": {
          "base_uri": "https://localhost:8080/",
          "height": 402
        },
        "id": "H2C_YSoSEjSH",
        "outputId": "34cf9a35-98cb-4603-d0fa-32bc2875528d"
      },
      "source": [
        "# Check count of tweets in Bangalore\n",
        "\n",
        "df_bangalore = df_final.loc[df_final['location'] == \"Bangalore\"]\n",
        "  \n",
        "df_bangalore"
      ],
      "execution_count": null,
      "outputs": [
        {
          "output_type": "execute_result",
          "data": {
            "text/html": [
              "<div>\n",
              "<style scoped>\n",
              "    .dataframe tbody tr th:only-of-type {\n",
              "        vertical-align: middle;\n",
              "    }\n",
              "\n",
              "    .dataframe tbody tr th {\n",
              "        vertical-align: top;\n",
              "    }\n",
              "\n",
              "    .dataframe thead th {\n",
              "        text-align: right;\n",
              "    }\n",
              "</style>\n",
              "<table border=\"1\" class=\"dataframe\">\n",
              "  <thead>\n",
              "    <tr style=\"text-align: right;\">\n",
              "      <th></th>\n",
              "      <th>index</th>\n",
              "      <th>text</th>\n",
              "      <th>location</th>\n",
              "      <th>processed_tweets</th>\n",
              "      <th>Prediction</th>\n",
              "    </tr>\n",
              "  </thead>\n",
              "  <tbody>\n",
              "    <tr>\n",
              "      <th>3</th>\n",
              "      <td>3</td>\n",
              "      <td>@Tejasvi_Surya @JPNadda India gets 18 million ...</td>\n",
              "      <td>Bangalore</td>\n",
              "      <td>tejasvisurya india get 18 million readymade do...</td>\n",
              "      <td>4</td>\n",
              "    </tr>\n",
              "    <tr>\n",
              "      <th>5</th>\n",
              "      <td>5</td>\n",
              "      <td>@Tejasvi_Surya India gets 18 million ready-mad...</td>\n",
              "      <td>Bangalore</td>\n",
              "      <td>tejasvisurya india get 18 million readymade do...</td>\n",
              "      <td>4</td>\n",
              "    </tr>\n",
              "    <tr>\n",
              "      <th>66</th>\n",
              "      <td>66</td>\n",
              "      <td>@kkmohan73 Covisheild, Covaxin, Sputnik V etc,...</td>\n",
              "      <td>Bangalore</td>\n",
              "      <td>kkmohan73 covisheild covaxin sputnik etc help ...</td>\n",
              "      <td>2</td>\n",
              "    </tr>\n",
              "    <tr>\n",
              "      <th>244</th>\n",
              "      <td>244</td>\n",
              "      <td>Best recommendation to take second dose of cov...</td>\n",
              "      <td>Bangalore</td>\n",
              "      <td>est recommendation take second dose covidsheil...</td>\n",
              "      <td>4</td>\n",
              "    </tr>\n",
              "    <tr>\n",
              "      <th>651</th>\n",
              "      <td>651</td>\n",
              "      <td>@allaboutbelgaum Sputnik V light one shot near...</td>\n",
              "      <td>Bangalore</td>\n",
              "      <td>allaboutbelgaum sputnik light one shot nearly ...</td>\n",
              "      <td>0</td>\n",
              "    </tr>\n",
              "    <tr>\n",
              "      <th>...</th>\n",
              "      <td>...</td>\n",
              "      <td>...</td>\n",
              "      <td>...</td>\n",
              "      <td>...</td>\n",
              "      <td>...</td>\n",
              "    </tr>\n",
              "    <tr>\n",
              "      <th>13000</th>\n",
              "      <td>13000</td>\n",
              "      <td>@swethaiyer @Bonjugal I guess that is the advi...</td>\n",
              "      <td>Bangalore</td>\n",
              "      <td>swethaiyer guess advisory covishield covaxin</td>\n",
              "      <td>0</td>\n",
              "    </tr>\n",
              "    <tr>\n",
              "      <th>13129</th>\n",
              "      <td>13129</td>\n",
              "      <td>@nithinkd Covishield or Covaxin?</td>\n",
              "      <td>Bangalore</td>\n",
              "      <td>nithinkd covishield covaxin</td>\n",
              "      <td>4</td>\n",
              "    </tr>\n",
              "    <tr>\n",
              "      <th>13150</th>\n",
              "      <td>13150</td>\n",
              "      <td>@CMofKarnataka @SetuAarogya @MoHFW_INDIA when ...</td>\n",
              "      <td>Bangalore</td>\n",
              "      <td>cmofkarnataka vaccination drive start 18 karna...</td>\n",
              "      <td>0</td>\n",
              "    </tr>\n",
              "    <tr>\n",
              "      <th>13452</th>\n",
              "      <td>13452</td>\n",
              "      <td>Raw Materials Are Not Needed For Manufacturing...</td>\n",
              "      <td>Bangalore</td>\n",
              "      <td>aw material needed manufacturing covishield co...</td>\n",
              "      <td>2</td>\n",
              "    </tr>\n",
              "    <tr>\n",
              "      <th>13545</th>\n",
              "      <td>13545</td>\n",
              "      <td>@HermesEloquence @Hmarsakeichal @timesofindia ...</td>\n",
              "      <td>Bangalore</td>\n",
              "      <td>hermeseloquence sii manufacturer covishield</td>\n",
              "      <td>0</td>\n",
              "    </tr>\n",
              "  </tbody>\n",
              "</table>\n",
              "<p>125 rows × 5 columns</p>\n",
              "</div>"
            ],
            "text/plain": [
              "       index  ... Prediction\n",
              "3          3  ...          4\n",
              "5          5  ...          4\n",
              "66        66  ...          2\n",
              "244      244  ...          4\n",
              "651      651  ...          0\n",
              "...      ...  ...        ...\n",
              "13000  13000  ...          0\n",
              "13129  13129  ...          4\n",
              "13150  13150  ...          0\n",
              "13452  13452  ...          2\n",
              "13545  13545  ...          0\n",
              "\n",
              "[125 rows x 5 columns]"
            ]
          },
          "metadata": {
            "tags": []
          },
          "execution_count": 39
        }
      ]
    },
    {
      "cell_type": "code",
      "metadata": {
        "id": "orJ0aKysEtSr"
      },
      "source": [
        "# Finding the total count of tweets location wise\n",
        "\n",
        "r_bangalore, c_bangalore = df_bangalore.shape\n",
        "r_delhi, c_delhi = df_delhi.shape\n",
        "r_mumbai, c_mumbai = df_mumbai.shape\n",
        "r_pune, c_pune = df_pune.shape"
      ],
      "execution_count": null,
      "outputs": []
    },
    {
      "cell_type": "code",
      "metadata": {
        "colab": {
          "base_uri": "https://localhost:8080/"
        },
        "id": "WPEJ13D5E8Ds",
        "outputId": "f8f0a8eb-1c58-4b3a-82f3-5b1a53ff85a2"
      },
      "source": [
        "# Finding Positive, Neutral and Negative count of tweets location wise\n",
        "\n",
        "pos_bangalore = (((df_bangalore.Prediction == 0).sum()/r_bangalore)*100).round(decimals = 2)\n",
        "neu_bangalore = (((df_bangalore.Prediction == 2).sum()/r_bangalore)*100).round(decimals = 2)\n",
        "neg_bangalore = (((df_bangalore.Prediction == 4).sum()/r_bangalore)*100).round(decimals = 2)\n",
        "print(\"Bangalore   - Positive = \", pos_bangalore,\"       Negative = \",neg_bangalore,\"       Neutral = \",neu_bangalore)\n",
        "\n",
        "\n",
        "pos_mumbai = (((df_mumbai.Prediction == 0).sum()/r_mumbai)*100).round(decimals = 2)\n",
        "neu_mumbai = (((df_mumbai.Prediction == 2).sum()/r_mumbai)*100).round(decimals = 2)\n",
        "neg_mumbai = (((df_mumbai.Prediction == 4).sum()/r_mumbai)*100).round(decimals = 2)\n",
        "print(\"Mumbai      - Positive = \", pos_mumbai,\"       Negative = \",neg_mumbai,\"      Neutral = \",neu_mumbai)\n",
        "\n",
        "\n",
        "pos_pune = (((df_pune.Prediction == 0).sum()/r_pune)*100).round(decimals = 2)\n",
        "neu_pune = (((df_pune.Prediction == 2).sum()/r_pune)*100).round(decimals = 2)\n",
        "neg_pune = (((df_pune.Prediction == 4).sum()/r_pune)*100).round(decimals = 2)\n",
        "print(\"Pune        - Positive = \", pos_pune,\"      Negative = \",neg_bangalore,\"       Neutral = \",neu_bangalore)\n",
        "\n",
        "\n",
        "pos_delhi = (((df_delhi.Prediction == 0).sum()/r_delhi)*100).round(decimals = 2)\n",
        "neu_delhi = (((df_delhi.Prediction == 2).sum()/r_delhi)*100).round(decimals = 2)\n",
        "neg_delhi = (((df_delhi.Prediction == 4).sum()/r_delhi)*100).round(decimals = 2)\n",
        "print(\"Delhi       - Positive = \", pos_delhi,\"      Negative = \",neg_delhi,\"      Neutral = \",neu_delhi)"
      ],
      "execution_count": null,
      "outputs": [
        {
          "output_type": "stream",
          "text": [
            "Bangalore   - Positive =  53.6        Negative =  27.2        Neutral =  19.2\n",
            "Mumbai      - Positive =  52.1        Negative =  34.45       Neutral =  13.45\n",
            "Pune        - Positive =  90.64       Negative =  27.2        Neutral =  19.2\n",
            "Delhi       - Positive =  46.63       Negative =  25.91       Neutral =  27.46\n"
          ],
          "name": "stdout"
        }
      ]
    },
    {
      "cell_type": "code",
      "metadata": {
        "colab": {
          "base_uri": "https://localhost:8080/",
          "height": 414
        },
        "id": "ZZk0lnqSFJmj",
        "outputId": "ebca22eb-8de8-4831-e402-b1076b4886e3"
      },
      "source": [
        "# Plotting a bar graph\n",
        "\n",
        "\n",
        "w=0.2\n",
        "place_Name = [\"Bangalore\",\"Mumbai\",\"Pune\",\"Delhi\"]\n",
        "\n",
        "overall_Pos = [pos_bangalore,pos_mumbai,pos_pune,pos_delhi]\n",
        "overall_Neu = [neu_bangalore,neu_mumbai,neu_pune,neu_delhi]\n",
        "overall_Neg = [neg_bangalore,neg_mumbai,neg_pune,neg_delhi]\n",
        "\n",
        "bar1 = np.arange(len(overall_Pos))\n",
        "bar2 = [i+w for i in bar1]\n",
        "bar3 = [i+w for i in bar2]\n",
        "\n",
        "plt.bar(bar1,overall_Pos,w,label = \"Positive\")\n",
        "plt.bar(bar2,overall_Neu,w,label = \"Neutral\")\n",
        "plt.bar(bar3,overall_Neg,w,label = \"Negative\")\n",
        "\n",
        "plt.xlabel(\"Place\")\n",
        "plt.ylabel(\"Sentiment\")\n",
        "plt.legend()\n",
        "plt.xticks(bar1+w,place_Name)"
      ],
      "execution_count": null,
      "outputs": [
        {
          "output_type": "execute_result",
          "data": {
            "text/plain": [
              "([<matplotlib.axis.XTick at 0x7f5de8e33610>,\n",
              "  <matplotlib.axis.XTick at 0x7f5de8e335d0>,\n",
              "  <matplotlib.axis.XTick at 0x7f5de8e33190>,\n",
              "  <matplotlib.axis.XTick at 0x7f5de902b650>],\n",
              " [Text(0, 0, 'Bangalore'),\n",
              "  Text(0, 0, 'Mumbai'),\n",
              "  Text(0, 0, 'Pune'),\n",
              "  Text(0, 0, 'Delhi')])"
            ]
          },
          "metadata": {
            "tags": []
          },
          "execution_count": 42
        },
        {
          "output_type": "display_data",
          "data": {
            "image/png": "[encoded data removed]",
            "text/plain": [
              "<Figure size 432x288 with 1 Axes>"
            ]
          },
          "metadata": {
            "tags": [],
            "needs_background": "light"
          }
        }
      ]
    },
    {
      "cell_type": "code",
      "metadata": {
        "id": "hL497zNMFb-8"
      },
      "source": [
        ""
      ],
      "execution_count": null,
      "outputs": []
    }
  ]
}